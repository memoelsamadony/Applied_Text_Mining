{
 "cells": [
  {
   "cell_type": "markdown",
   "metadata": {},
   "source": [
    "---\n",
    "\n",
    "_You are currently looking at **version 1.1** of this notebook. To download notebooks and datafiles, as well as get help on Jupyter notebooks in the Coursera platform, visit the [Jupyter Notebook FAQ](https://www.coursera.org/learn/python-text-mining/resources/d9pwm) course resource._\n",
    "\n",
    "---"
   ]
  },
  {
   "cell_type": "markdown",
   "metadata": {},
   "source": [
    "# Assignment 1\n",
    "\n",
    "In this assignment, you'll be working with messy medical data and using regex to extract relevant infromation from the data. \n",
    "\n",
    "Each line of the `dates.txt` file corresponds to a medical note. Each note has a date that needs to be extracted, but each date is encoded in one of many formats.\n",
    "\n",
    "The goal of this assignment is to correctly identify all of the different date variants encoded in this dataset and to properly normalize and sort the dates. \n",
    "\n",
    "Here is a list of some of the variants you might encounter in this dataset:\n",
    "* 04/20/2009; 04/20/09; 4/20/09; 4/3/09\n",
    "* Mar-20-2009; Mar 20, 2009; March 20, 2009;  Mar. 20, 2009; Mar 20 2009;\n",
    "* 20 Mar 2009; 20 March 2009; 20 Mar. 2009; 20 March, 2009\n",
    "* Mar 20th, 2009; Mar 21st, 2009; Mar 22nd, 2009\n",
    "* Feb 2009; Sep 2009; Oct 2010\n",
    "* 6/2008; 12/2009\n",
    "* 2009; 2010\n",
    "\n",
    "Once you have extracted these date patterns from the text, the next step is to sort them in ascending chronological order accoring to the following rules:\n",
    "* Assume all dates in xx/xx/xx format are mm/dd/yy\n",
    "* Assume all dates where year is encoded in only two digits are years from the 1900's (e.g. 1/5/89 is January 5th, 1989)\n",
    "* If the day is missing (e.g. 9/2009), assume it is the first day of the month (e.g. September 1, 2009).\n",
    "* If the month is missing (e.g. 2010), assume it is the first of January of that year (e.g. January 1, 2010).\n",
    "* Watch out for potential typos as this is a raw, real-life derived dataset.\n",
    "\n",
    "With these rules in mind, find the correct date in each note and return a pandas Series in chronological order of the original Series' indices.\n",
    "\n",
    "For example if the original series was this:\n",
    "\n",
    "    0    1999\n",
    "    1    2010\n",
    "    2    1978\n",
    "    3    2015\n",
    "    4    1985\n",
    "\n",
    "Your function should return this:\n",
    "\n",
    "    0    2\n",
    "    1    4\n",
    "    2    0\n",
    "    3    1\n",
    "    4    3\n",
    "\n",
    "Your score will be calculated using [Kendall's tau](https://en.wikipedia.org/wiki/Kendall_rank_correlation_coefficient), a correlation measure for ordinal data.\n",
    "\n",
    "*This function should return a Series of length 500 and dtype int.*"
   ]
  },
  {
   "cell_type": "code",
   "execution_count": 1,
   "metadata": {},
   "outputs": [],
   "source": [
    "# importing packages\n",
    "import pandas as pd\n",
    "import numpy as np\n",
    "import re \n",
    "\n",
    "doc = []\n",
    "with open('dates.txt') as file:\n",
    "    for line in file:\n",
    "        doc.append(line)\n",
    "\n",
    "df = pd.DataFrame(doc,columns=['dates'])#converting the list to a dataframe"
   ]
  },
  {
   "cell_type": "code",
   "execution_count": 2,
   "metadata": {
    "collapsed": true
   },
   "outputs": [],
   "source": [
    "def convert(x):\n",
    "    \"\"\"Matches differernt patterns of dates\n",
    "    \"\"\"\n",
    "    y = re.findall(r'\\d{1,2}[/-]\\d{1,2}[/-]\\d{2,4}',x)#basic pattern\n",
    "    if (len(y) == 0):\n",
    "        #matching dates with month names and dotes in it \n",
    "        y = re.findall(r'(?:\\d{1,2} )?(?:Jan|Feb|Mar|Apr|May|Jun|Jul|Aug|Sep|Oct|Nov|Dec)[a-z]*(?:\\W)? (?:\\d{1,2}\\W |\\d{1,2} )?(?:\\d{2,4})',x)\n",
    "        if(len(y) == 0):\n",
    "            #matches dates with month names with ',' after the day\n",
    "            y = re.findall(r'(?:\\d{1,2} )?(?:Jan|Feb|Mar|Apr|May|Jun|Jul|Aug|Sep|Oct|Nov|Dec)[a-z]* (?:\\d{1,2}, )?(?:\\d{2,4})',x)\n",
    "            if(len(y) == 0):\n",
    "                #matches dates with no days and dates with no days or months\n",
    "                y= re.findall(r'(?:\\d{1,2}[/-])?(?:\\d{4})',x)\n",
    "                if(len(y) == 0):return np.nan\n",
    "                else:return y[0]\n",
    "            else:return y[0]\n",
    "        else: return y[0]\n",
    "        \n",
    "    else:return y[0]"
   ]
  },
  {
   "cell_type": "code",
   "execution_count": 3,
   "metadata": {
    "collapsed": true
   },
   "outputs": [],
   "source": [
    "def clean_dates(x):\n",
    "    \"\"\"function that match the month name and replace it with its number\n",
    "    \"\"\"\n",
    "    y = re.findall(r'(?:Jan|Feb|Mar|Apr|May|Jun|Jul|Aug|Sep|Oct|Nov|Dec)[a-z]*',x)\n",
    "    months_abb = ['Jan','Feb','Mar','Apr','May','Jun','Jul','Aug','Sep','Oct','Nov','Dec']\n",
    "    months = ['January','February','March','April','May','June','July','August','September','October','November','December']\n",
    "    wrong_mon = ['Janaury','February','March','April','May','June','July','August','September','October','November','Decemeber']\n",
    "    repl = ''\n",
    "    for i,j in enumerate(zip(months_abb,months,wrong_mon)):\n",
    "        if(len(y) == 0):return x\n",
    "        elif(y[0] in j):\n",
    "            repl = '{}'.format(i+1)\n",
    "            break\n",
    "    string = re.sub(r'(?:Jan|Feb|Mar|Apr|May|Jun|Jul|Aug|Sep|Oct|Nov|Dec)[a-z]*',repl,x)\n",
    "    return string"
   ]
  },
  {
   "cell_type": "code",
   "execution_count": 4,
   "metadata": {
    "collapsed": true
   },
   "outputs": [],
   "source": [
    "def correct_years(x):\n",
    "    \"\"\"Function that add '19' to the years with just two digits\n",
    "    \"\"\"\n",
    "    char = x.split('-')[-1]\n",
    "    if(len(char) == 2):\n",
    "        char = x.split('-')\n",
    "        char[-1] = '19' + char[-1]\n",
    "        string = '-'.join(char)\n",
    "        return string\n",
    "    else:return x"
   ]
  },
  {
   "cell_type": "code",
   "execution_count": 5,
   "metadata": {
    "collapsed": true
   },
   "outputs": [],
   "source": [
    "def date_sorter():\n",
    "    \"\"\"Function that combines all the previous together\n",
    "    \"\"\"\n",
    "    \n",
    "    df['order'] = df['dates'].apply(convert)\n",
    "    df['order'] = df['order'].str.replace('/','-')\n",
    "    df['order'] = df['order'].str.replace(' ','-')\n",
    "    df['order'] = df['order'].str.replace(',','')\n",
    "    df['order'] = df['order'].str.replace('.','')\n",
    "    df['order'] = df['order'].apply(clean_dates)\n",
    "    df['order'] = df['order'].apply(correct_years)\n",
    "    format_1_1 = pd.to_datetime(df['order'].iloc[0:125],format='%m-%d-%Y')\n",
    "    format_1_2 = pd.to_datetime(df['order'].iloc[195:228],format='%m-%d-%Y')\n",
    "    format_2 = pd.to_datetime(df['order'].iloc[125:195],format='%d-%m-%Y')\n",
    "    format_3 = pd.to_datetime(df['order'].iloc[228:455],format='%m-%Y')\n",
    "    format_4 = pd.to_datetime(df['order'].iloc[455:500],format='%Y')\n",
    "    df['order'] = pd.concat([format_1_1,format_2,format_1_2,format_3,format_4],axis=0)\n",
    "    final = pd.Series(df['order'].sort_values().index)\n",
    "    \n",
    "    return final"
   ]
  }
 ],
 "metadata": {
  "coursera": {
   "course_slug": "python-text-mining",
   "graded_item_id": "LvcWI",
   "launcher_item_id": "krne9",
   "part_id": "Mkp1I"
  },
  "kernelspec": {
   "display_name": "Python 3",
   "language": "python",
   "name": "python3"
  },
  "language_info": {
   "codemirror_mode": {
    "name": "ipython",
    "version": 3
   },
   "file_extension": ".py",
   "mimetype": "text/x-python",
   "name": "python",
   "nbconvert_exporter": "python",
   "pygments_lexer": "ipython3",
   "version": "3.6.2"
  }
 },
 "nbformat": 4,
 "nbformat_minor": 2
}
